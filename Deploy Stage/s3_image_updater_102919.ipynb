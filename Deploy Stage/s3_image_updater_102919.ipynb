{
 "cells": [
  {
   "cell_type": "code",
   "execution_count": 1,
   "metadata": {},
   "outputs": [],
   "source": [
    "import boto3\n",
    "import time\n",
    "import os"
   ]
  },
  {
   "cell_type": "code",
   "execution_count": 2,
   "metadata": {},
   "outputs": [],
   "source": [
    "# set AWS credentials\n",
    "s3 = boto3.resource(\n",
    "    's3',\n",
    "    region_name='us-west-2',\n",
    "    aws_access_key_id='enter your access key',\n",
    "    aws_secret_access_key='enter your secret access key'\n",
    ")"
   ]
  },
  {
   "cell_type": "code",
   "execution_count": 3,
   "metadata": {},
   "outputs": [],
   "source": [
    "# set archive filename with timestring\n",
    "timestr = time.strftime(\"%m%d%y\")\n",
    "archive = 'images/report_{}.png'.format(timestr)"
   ]
  },
  {
   "cell_type": "code",
   "execution_count": 4,
   "metadata": {},
   "outputs": [
    {
     "data": {
      "text/plain": [
       "{'ETag': '\"2ac34744dc0c44461a08c178c6ed9899\"',\n",
       " 'ResponseMetadata': {'HTTPHeaders': {'content-length': '0',\n",
       "   'date': 'Wed, 30 Oct 2019 04:22:33 GMT',\n",
       "   'etag': '\"2ac34744dc0c44461a08c178c6ed9899\"',\n",
       "   'server': 'AmazonS3',\n",
       "   'x-amz-id-2': '/ZIc8EYQUbR40J2Fn/ayU8T0mmna/DSpgZYiDG/msTOkE+LA4s7l1pwT7oYEKviggll7HTKCRuI=',\n",
       "   'x-amz-request-id': '0FE1C57172A544BC'},\n",
       "  'HTTPStatusCode': 200,\n",
       "  'HostId': '/ZIc8EYQUbR40J2Fn/ayU8T0mmna/DSpgZYiDG/msTOkE+LA4s7l1pwT7oYEKviggll7HTKCRuI=',\n",
       "  'RequestId': '0FE1C57172A544BC',\n",
       "  'RetryAttempts': 0}}"
      ]
     },
     "execution_count": 4,
     "metadata": {},
     "output_type": "execute_result"
    }
   ],
   "source": [
    "# copy to S3 static website\n",
    "s3.Object('enter bucket name', 'report.png').put(Body=open('images/report.png', 'rb'))"
   ]
  },
  {
   "cell_type": "code",
   "execution_count": 5,
   "metadata": {},
   "outputs": [],
   "source": [
    "# archive the image\n",
    "os.rename('images/report.png', archive)"
   ]
  },
  {
   "cell_type": "markdown",
   "metadata": {},
   "source": [
    "### Disclaimer: this notebook is intended for educational purposes only and not recommended for real trading."
   ]
  },
  {
   "cell_type": "code",
   "execution_count": null,
   "metadata": {},
   "outputs": [],
   "source": []
  }
 ],
 "metadata": {
  "kernelspec": {
   "display_name": "Python 3",
   "language": "python",
   "name": "python3"
  },
  "language_info": {
   "codemirror_mode": {
    "name": "ipython",
    "version": 3
   },
   "file_extension": ".py",
   "mimetype": "text/x-python",
   "name": "python",
   "nbconvert_exporter": "python",
   "pygments_lexer": "ipython3",
   "version": "3.5.4"
  }
 },
 "nbformat": 4,
 "nbformat_minor": 2
}
