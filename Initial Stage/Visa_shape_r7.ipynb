{
 "cells": [
  {
   "cell_type": "markdown",
   "metadata": {},
   "source": [
    "### Historical Shape Indicator (HSI),  Visa Market"
   ]
  },
  {
   "cell_type": "code",
   "execution_count": 1,
   "metadata": {},
   "outputs": [],
   "source": [
    "import pandas as pd\n",
    "from pandas import DatetimeIndex\n",
    "import datetime \n",
    "import os\n",
    "import numpy as np\n",
    "import matplotlib.pyplot as plt\n",
    "from tqdm import tqdm_notebook\n",
    "import scipy\n",
    "from scipy import stats as scs\n",
    "import statsmodels\n",
    "from statsmodels import stats\n",
    "from statsmodels.stats import weightstats\n",
    "from statsmodels.stats.power import TTestIndPower\n",
    "import sys\n",
    "import warnings\n",
    "if not sys.warnoptions:\n",
    "    warnings.simplefilter(\"ignore\")\n",
    "import seaborn as sb\n",
    "sb.set()\n",
    "from alpha_vantage.timeseries import TimeSeries\n",
    "from datetime import datetime, timedelta\n",
    "%matplotlib inline"
   ]
  },
  {
   "cell_type": "markdown",
   "metadata": {},
   "source": [
    "#### Raw Data"
   ]
  },
  {
   "cell_type": "code",
   "execution_count": 2,
   "metadata": {},
   "outputs": [],
   "source": [
    "def get_raw(sym='V'):\n",
    "    '''\n",
    "    download data and return data dictionary\n",
    "    '''\n",
    "    # download historical prices\n",
    "    ts = TimeSeries(key='enter your access key')\n",
    "    # Get json object with the intraday data and another with  the call's metadata\n",
    "    data, meta_data = ts.get_daily_adjusted(sym, outputsize='full')\n",
    "    return data"
   ]
  },
  {
   "cell_type": "markdown",
   "metadata": {},
   "source": [
    "#### Format Raw Data"
   ]
  },
  {
   "cell_type": "code",
   "execution_count": 3,
   "metadata": {},
   "outputs": [],
   "source": [
    "def format_raw(raw_dict):\n",
    "    '''\n",
    "    import raw dictionary\n",
    "    format column names and sort date ascending\n",
    "    return dataframe\n",
    "    '''\n",
    "    # reformat\n",
    "    data = raw_dict.copy()\n",
    "    df_raw = pd.DataFrame.from_dict(data).T\n",
    "    df_raw.reset_index(level=0, inplace=True)\n",
    "    df_raw = df_raw.rename(index=str, columns={'index':'date',\n",
    "                                               '1. open': 'open', \n",
    "                                               '2. high': 'high',\n",
    "                                               '3. low': 'low',\n",
    "                                               '4. close':'close',\n",
    "                                               '5. adjusted close':'adj_close',\n",
    "                                               '6. volume':'volume',\n",
    "                                               '7. dividend amount':'dividend',\n",
    "                                               '8. split coefficient':'split',\n",
    "                                              })\n",
    "    df_raw = df_raw.sort_values(by='date', ascending=True)\n",
    "    df_raw = df_raw.reset_index(drop=True)\n",
    "    df_raw.date = pd.to_datetime(df_raw.date)\n",
    "    \n",
    "    return df_raw"
   ]
  },
  {
   "cell_type": "code",
   "execution_count": 4,
   "metadata": {},
   "outputs": [],
   "source": [
    "def scale_adjusted(df_raw):\n",
    "    '''\n",
    "    import raw dataframe\n",
    "    scale open,high,low, close to adjusted close\n",
    "    return updated dataframe\n",
    "    '''\n",
    "    df = df_raw.copy()\n",
    "    df_scale = pd.DataFrame()\n",
    "    close = df.close.to_numpy().astype(float)\n",
    "    adj = df.adj_close.to_numpy().astype(float)\n",
    "    scale = adj / close\n",
    "    df_scale['date'] = df['date'].copy()\n",
    "    df_scale['open']=df.open.to_numpy().astype(float)*scale\n",
    "    df_scale['high']=df.high.to_numpy().astype(float)*scale\n",
    "    df_scale['low']=df.low.to_numpy().astype(float)*scale\n",
    "    df_scale['close']=df.close.to_numpy().astype(float)*scale\n",
    "    \n",
    "    return df_scale"
   ]
  },
  {
   "cell_type": "markdown",
   "metadata": {},
   "source": [
    "#### Preprocess Data"
   ]
  },
  {
   "cell_type": "code",
   "execution_count": 5,
   "metadata": {},
   "outputs": [],
   "source": [
    "def compute_log_returns(prices):\n",
    "    '''\n",
    "    compute log returns\n",
    "    '''\n",
    "    return np.log(prices) - np.log(prices.shift(1))"
   ]
  },
  {
   "cell_type": "code",
   "execution_count": 6,
   "metadata": {},
   "outputs": [],
   "source": [
    "def shift_returns(returns, shift_n):\n",
    "    '''\n",
    "    compute shift returns for trade assessment\n",
    "    '''\n",
    "    return returns.shift(shift_n)"
   ]
  },
  {
   "cell_type": "code",
   "execution_count": 7,
   "metadata": {},
   "outputs": [],
   "source": [
    "def compute_proj(prices, lookahead_days):\n",
    "    '''\n",
    "    compute projected future lookahead returns\n",
    "    lookahead_days is the number of days ahead we want to predict\n",
    "    '''\n",
    "    return (prices.shift(-lookahead_days) - prices)/prices"
   ]
  },
  {
   "cell_type": "code",
   "execution_count": 8,
   "metadata": {},
   "outputs": [],
   "source": [
    "def compute_day_shape(prices, sigmas, dayspan):\n",
    "    '''\n",
    "    compute one day shape\n",
    "    '''\n",
    "    abs_deltas = (prices) - (prices.shift(dayspan))\n",
    "    s_ratios = abs_deltas / sigmas\n",
    "    ups = 3*(s_ratios>1)\n",
    "    downs = 1*(s_ratios<-1)\n",
    "    neuts = 2*((s_ratios>=-1)&(s_ratios<=1))      \n",
    "    return (ups+downs+neuts)"
   ]
  },
  {
   "cell_type": "code",
   "execution_count": 9,
   "metadata": {},
   "outputs": [],
   "source": [
    "def compute_shape(dayshape, dayspan):\n",
    "    '''\n",
    "    compute 5 day shape ordinals\n",
    "    '''\n",
    "    ago5s = 10000*(dayshape.shift(4*dayspan))\n",
    "    ago4s = 1000*(dayshape.shift(3*dayspan))\n",
    "    ago3s = 100*(dayshape.shift(2*dayspan))\n",
    "    ago2s = 10*(dayshape.shift(1*dayspan))\n",
    "    return (ago5s+ago4s+ago3s+ago2s+dayshape)"
   ]
  },
  {
   "cell_type": "code",
   "execution_count": 10,
   "metadata": {},
   "outputs": [],
   "source": [
    "def preprocess(df):\n",
    "    '''\n",
    "    compute statistics \n",
    "    add return parameters\n",
    "    add lookahead projections of 7 days\n",
    "    use day shape spans of 1, 3 and 5 days\n",
    "    build shape ordinals\n",
    "    '''\n",
    "    df_for = df.copy()\n",
    "    \n",
    "    # raw data overlaps\n",
    "    shifts = [['o1','h1','l1','c1'],\n",
    "              ['o2','h2','l2','c2'],\n",
    "              ['o3','h3','l3','c3'],\n",
    "              ['o4','h4','l4','c4'],\n",
    "             ]\n",
    "    # format df to calculate price estimates and standard deviations\n",
    "    for j, shift in zip(range(1,6),shifts):\n",
    "        df_for[shift[0]] = df_for.open.shift(-j)\n",
    "        df_for[shift[1]] = df_for.high.shift(-j)\n",
    "        df_for[shift[2]] = df_for.low.shift(-j)\n",
    "        df_for[shift[3]] = df_for.close.shift(-j)\n",
    "\n",
    "    # define price estimate columns for 1,3,5 day spans\n",
    "    p1_col = df_for.loc[:,\"open\":\"close\"].astype(float)\n",
    "    p3_col = df_for.loc[:,\"open\":\"c2\"].astype(float)\n",
    "    p5_col = df_for.loc[:,\"open\":\"c4\"].astype(float)  \n",
    "    p_cols = [p1_col, p3_col, p5_col]\n",
    "\n",
    "    # compute price estimates and standard deviations for spans\n",
    "    stats = [['pe1','sd1'],['pe3','sd3'],['pe5','sd5']]\n",
    "    for stat, p_col in zip(stats, p_cols):\n",
    "        df_for[stat[0]] = p_col.mean(axis=1)\n",
    "        df_for[stat[1]] = p_col.std(axis=1)\n",
    "\n",
    "    # keep date but leave raw data behind\n",
    "    df_prep = df_for[['date','pe1','sd1','pe3','sd3','pe5','sd5']].copy()\n",
    "    \n",
    "    # add daily returns to df based on 1 day price estimates\n",
    "    daily_returns = compute_log_returns(df_prep['pe1'])\n",
    "    df_prep['log_ret'] = daily_returns\n",
    "    \n",
    "    # compute shift returns\n",
    "    shift_1dlog = shift_returns(df_prep['log_ret'],-1)\n",
    "    df_prep['shift_ret'] = shift_1dlog\n",
    "    \n",
    "    # add projections to df\n",
    "    lookahead_days = 7\n",
    "    aheads = compute_proj(df_prep['pe1'], lookahead_days)\n",
    "    df_prep['proj'] = aheads\n",
    "    \n",
    "    # add day shapes to df\n",
    "    dayshapes = ['ds1','ds3','ds5']\n",
    "    dayspans = [1,3,5]\n",
    "    for shape, stat, span in zip(dayshapes, stats, dayspans):\n",
    "        df_prep[shape] = compute_day_shape(df_prep[stat[0]], df_prep[stat[1]], span)\n",
    "        \n",
    "    # add shapes to df\n",
    "    shapes = ['shp1','shp3','shp5']\n",
    "    for shape, dayshape, span in zip(shapes, dayshapes, dayspans):\n",
    "        df_prep[shape] = compute_shape(df_prep[dayshape], span)\n",
    "\n",
    "    #trim the head then format\n",
    "    df_trim = df_prep[25:].copy()\n",
    "    df_trim[['shp1','shp3','shp5']] = df_trim[['shp1','shp3','shp5']].astype(int)\n",
    "    \n",
    "    return df_trim  "
   ]
  },
  {
   "cell_type": "code",
   "execution_count": 11,
   "metadata": {},
   "outputs": [],
   "source": [
    "def test_train_split(df_mkt, test_year):\n",
    "    '''\n",
    "    split preprocessed data into train and test dataframes\n",
    "    train data comes from years prior to test year\n",
    "    data in years beyond the test year is not used\n",
    "    '''\n",
    "    df = df_mkt.copy()\n",
    "    years = df.date.map(lambda x: x.strftime('%Y')).astype(int)\n",
    "    \n",
    "    #train = years < test_year for 2 years behind\n",
    "    train = ((test_year-3 < years) & (years < test_year))\n",
    "    test = np.isin(years, test_year)\n",
    "\n",
    "    df_train = df[train].copy()\n",
    "    df_test = df[test].copy()\n",
    "    \n",
    "    return df_train, df_test"
   ]
  },
  {
   "cell_type": "markdown",
   "metadata": {},
   "source": [
    "#### Shape Ranks"
   ]
  },
  {
   "cell_type": "code",
   "execution_count": 12,
   "metadata": {},
   "outputs": [],
   "source": [
    "def compute_shaperank(df_train, shapename):\n",
    "    '''\n",
    "    enter preprocessed train data and shapename string\n",
    "    return HSI dataframe for that shapename\n",
    "    '''\n",
    "    shapes = df_train[shapename]\n",
    "    projs = df_train['proj']\n",
    "    \n",
    "    s_list = list(set(shapes))\n",
    "    p_avgs = []\n",
    "    p_stds = []\n",
    "    for shape in s_list:\n",
    "        p_avgs.append((projs*(shapes==shape)).mean())\n",
    "        p_stds.append((projs*(shapes==shape)).std())\n",
    "    \n",
    "    # initiate dataframe build\n",
    "    df_shape = pd.DataFrame()\n",
    "    df_shape['shape'] = s_list\n",
    "    df_shape['p_avg'] = p_avgs\n",
    "    df_shape['p_std'] = p_stds\n",
    "    \n",
    "    # shape ratio as a mini sharpe\n",
    "    df_shape['p_srs'] = df_shape['p_avg']/df_shape['p_std']\n",
    "    df_shape = df_shape.sort_values(by=['p_srs'])\n",
    "    df_shape = df_shape.reset_index(drop=True)\n",
    "    \n",
    "    # normalize shape ratios into indicator\n",
    "    short_range = df_shape['p_srs'].max() - df_shape['p_srs'].min() \n",
    "    short_min = df_shape['p_srs'].min()\n",
    "    df_shape['HSI'] = (df_shape['p_srs'] - short_min)/short_range\n",
    "    \n",
    "    return df_shape     "
   ]
  },
  {
   "cell_type": "code",
   "execution_count": 13,
   "metadata": {},
   "outputs": [],
   "source": [
    "def build_hsi(df_train):\n",
    "    '''\n",
    "    import train dataframe\n",
    "    return completed shape dataframe\n",
    "    '''\n",
    "    df1 = compute_shaperank(df_train, 'shp1')\n",
    "    df3 = compute_shaperank(df_train, 'shp3')\n",
    "    df5 = compute_shaperank(df_train, 'shp5')\n",
    "    df_hsi = pd.concat({'shp1':df1, 'shp3':df3, 'shp5':df5}, axis=1)\n",
    "    return df_hsi"
   ]
  },
  {
   "cell_type": "code",
   "execution_count": 14,
   "metadata": {},
   "outputs": [],
   "source": [
    "def assign_hsi(df, df_shape):\n",
    "    '''\n",
    "    for daily market data\n",
    "    lookup the HSI figures given shape ordinals\n",
    "    return updated dataframe with daily HSC assignment\n",
    "    '''\n",
    "    df_mkt = df.copy()\n",
    "    \n",
    "    # HSI lookups\n",
    "    shapenames = ['shp1','shp3','shp5']\n",
    "    hsi_names = ['hsi1','hsi3','hsi5']\n",
    "    \n",
    "    for sname, hsi_name in zip(shapenames, hsi_names):\n",
    "        lookups = []\n",
    "        s_list = df_shape[sname]['shape'].tolist()\n",
    "        for i,nrows in df_mkt.iterrows():\n",
    "            shp = nrows[sname]\n",
    "            # assign 0.5's for unknown shapes\n",
    "            if shp in s_list:\n",
    "                lookups.append(np.asscalar(df_shape[sname][df_shape[sname]['shape']==shp]['HSI'].values))\n",
    "            else:\n",
    "                lookups.append(0.5)\n",
    "        df_mkt[hsi_name] = lookups\n",
    "        \n",
    "    # compile three into the average of the two closest\n",
    "    nearest_two = []\n",
    "    for i,nrows in df_mkt.iterrows():\n",
    "        v1 = nrows['hsi1']\n",
    "        v2 = nrows['hsi3']\n",
    "        v3 = nrows['hsi5']\n",
    "        diffs = np.abs([v1-v2, v2-v3, v1-v3])\n",
    "        sums = [v1+v2, v2+v3, v1+v3]\n",
    "        nearest_two.append(np.max((diffs==np.amin(diffs))*sums)/2)\n",
    "        \n",
    "    df_mkt['HSC'] = nearest_two\n",
    "\n",
    "    return df_mkt"
   ]
  },
  {
   "cell_type": "markdown",
   "metadata": {},
   "source": [
    "#### Trade Rules"
   ]
  },
  {
   "cell_type": "code",
   "execution_count": 15,
   "metadata": {},
   "outputs": [],
   "source": [
    "def compute_trades(indicator, highT, lowT):\n",
    "    '''\n",
    "    compare HSC to thresholds\n",
    "    return binaries of in/out days\n",
    "    '''\n",
    "    trades = []\n",
    "    inout = 0\n",
    "    for ind in indicator:\n",
    "        # from out to enter\n",
    "        if inout == 0:\n",
    "            if ind > highT:\n",
    "                trades.append(1)\n",
    "                inout = 1\n",
    "            else:\n",
    "                trades.append(0)\n",
    "        # from in to exit\n",
    "        else:\n",
    "            if ind < lowT:\n",
    "                trades.append(0)\n",
    "                inout = 0\n",
    "            else:\n",
    "                trades.append(1)\n",
    "    return trades"
   ]
  },
  {
   "cell_type": "code",
   "execution_count": 16,
   "metadata": {},
   "outputs": [],
   "source": [
    "def opt_tresh(seedLow, seedHigh, step_range, df):\n",
    "    '''\n",
    "    successive approximation applied to optimizing thresholds\n",
    "    '''\n",
    "    df_mkt = df.copy()\n",
    "    bestL = 0\n",
    "    bestH = 0\n",
    "    bestR = 0\n",
    "    for i in range(20):\n",
    "        t_low = seedLow + step_range*i/20\n",
    "\n",
    "        for j in range(20):\n",
    "            t_high = seedHigh + step_range*j/20\n",
    "\n",
    "            trade = compute_trades(df_mkt['HSC'], t_high, t_low)\n",
    "            returns = df_mkt['shift_ret']*trade\n",
    "            expret = (np.exp(returns[1:].T.sum())-1)*100\n",
    "\n",
    "            if expret > bestR:\n",
    "                bestL = t_low\n",
    "                bestH = t_high\n",
    "                bestR = expret\n",
    "                \n",
    "    return bestL, bestH"
   ]
  },
  {
   "cell_type": "code",
   "execution_count": 17,
   "metadata": {},
   "outputs": [],
   "source": [
    "def thresholds(df_train):\n",
    "    '''\n",
    "    determine trade rule thresholds\n",
    "    '''\n",
    "    # trim leader NaN's\n",
    "    df = df_train.iloc[:-7].copy()\n",
    "    \n",
    "    low = 0.25\n",
    "    high = 0.75\n",
    "    res = 0\n",
    "    r_values = [0.5,0.25,0.125]\n",
    "    for r in r_values:\n",
    "        low, high = opt_tresh((low-(r/2)),(high-(r/2)),r,df)\n",
    "    \n",
    "    return low, high"
   ]
  },
  {
   "cell_type": "code",
   "execution_count": 18,
   "metadata": {},
   "outputs": [],
   "source": [
    "def compute_trades(indicator, highT, lowT):\n",
    "    '''\n",
    "    compare HSC to thresholds\n",
    "    return binaries of in/out days\n",
    "    '''\n",
    "    trades = []\n",
    "    inout = 0\n",
    "    for ind in indicator:\n",
    "        # from out to enter\n",
    "        if inout == 0:\n",
    "            if ind > highT:\n",
    "                trades.append(1)\n",
    "                inout = 1\n",
    "            else:\n",
    "                trades.append(0)\n",
    "        # from in to exit\n",
    "        else:\n",
    "            if ind < lowT:\n",
    "                trades.append(0)\n",
    "                inout = 0\n",
    "            else:\n",
    "                trades.append(1)\n",
    "    return trades"
   ]
  },
  {
   "cell_type": "markdown",
   "metadata": {},
   "source": [
    "#### Analysis Functions"
   ]
  },
  {
   "cell_type": "code",
   "execution_count": 19,
   "metadata": {},
   "outputs": [],
   "source": [
    "def compute_trade_returns(df):\n",
    "    '''\n",
    "    compute trade returns\n",
    "    '''\n",
    "    return df['shift_ret']*df['trade']"
   ]
  },
  {
   "cell_type": "code",
   "execution_count": 20,
   "metadata": {},
   "outputs": [],
   "source": [
    "def statistical_test(df):\n",
    "    '''\n",
    "    Unequal Variance Stats Test of equal Sample Size\n",
    "    This is a two-sided test for the null hypothesis that:\n",
    "    2 independent samples have identical average (expected) values.\n",
    "    With a small p_value, the null hypothesis is rejected\n",
    "    '''\n",
    "    all_ins = df[df['trade']==1]['shift_ret'].dropna()\n",
    "    all_outs = df[df['trade']==0]['shift_ret'].dropna()\n",
    "    \n",
    "    if len(all_ins)<len(all_outs):\n",
    "        all_outs = np.asarray(np.random.choice(all_outs, len(all_ins)))\n",
    "    else:\n",
    "        all_ins = np.asarray(np.random.choice(all_ins, len(all_outs)))\n",
    "    \n",
    "    results = statsmodels.stats.weightstats.ttest_ind(all_ins, all_outs,\n",
    "                                                      alternative=\"two-sided\",\n",
    "                                                      usevar=\"unequal\")\n",
    "    t_value = results[0]\n",
    "    p_value = results[1]\n",
    "    \n",
    "    return t_value, p_value"
   ]
  },
  {
   "cell_type": "code",
   "execution_count": 21,
   "metadata": {},
   "outputs": [],
   "source": [
    "def get_expected_return(returns):\n",
    "    '''\n",
    "    compute integrated return in percentage\n",
    "    '''\n",
    "    return (np.exp(returns[1:].T.sum())-1)*100"
   ]
  },
  {
   "cell_type": "code",
   "execution_count": 22,
   "metadata": {},
   "outputs": [],
   "source": [
    "def get_volatility(returns):\n",
    "    '''\n",
    "    compute annualized volatility\n",
    "    '''\n",
    "    return np.std(returns)*np.sqrt(252)"
   ]
  },
  {
   "cell_type": "code",
   "execution_count": 23,
   "metadata": {},
   "outputs": [],
   "source": [
    "def get_years(df_mkt):\n",
    "    '''\n",
    "    compute years for sharpe\n",
    "    '''\n",
    "    df = df_mkt.copy()\n",
    "    df = df.reset_index(drop=True)\n",
    "    return np.asscalar((df['date'].tail(1)-df['date'][0])/timedelta(days=365))"
   ]
  },
  {
   "cell_type": "code",
   "execution_count": 24,
   "metadata": {},
   "outputs": [],
   "source": [
    "def get_sharpe(returns, years, vol_year):\n",
    "    '''\n",
    "    compute sharpe ratio assuming 3.5% risk free interest rate\n",
    "    '''\n",
    "    ret_year = (np.exp(returns[1:].T.sum())-1)/years\n",
    "    risk_free = 0.035\n",
    "    return (ret_year - risk_free) / vol_year"
   ]
  },
  {
   "cell_type": "code",
   "execution_count": 25,
   "metadata": {},
   "outputs": [],
   "source": [
    "def get_benchmark(df_mkt, exp_return):\n",
    "    '''\n",
    "    compute beat the market percentage\n",
    "    calculates S&P500 returns using same trade days\n",
    "    converts log returns to simple percentage\n",
    "    returns difference in percentage returns\n",
    "    '''\n",
    "    df_spy = pd.read_csv('spy_index_092419.csv')\n",
    "    df_spy['date'] = pd.to_datetime(df_spy['date'])\n",
    "    df_bench = pd.merge(df_spy[['date', 'shift_ret']], df_mkt[['date','trade']], on='date', how='inner')\n",
    "    bench_returns = df_bench['shift_ret']*df_bench['trade']\n",
    "    bench_return = (np.exp(bench_returns[1:].T.sum())-1)*100\n",
    "    beat_percent = exp_return - bench_return\n",
    "    return beat_percent"
   ]
  },
  {
   "cell_type": "markdown",
   "metadata": {},
   "source": [
    "#### Processing Pipeline"
   ]
  },
  {
   "cell_type": "code",
   "execution_count": 26,
   "metadata": {},
   "outputs": [],
   "source": [
    "def run_etl(ticker, equity):\n",
    "    '''\n",
    "    run ETL pipeline\n",
    "    '''\n",
    "    print('Runnning ETL for '+ ticker)\n",
    "    dict_raw = get_raw(ticker)\n",
    "    \n",
    "    print('formatting')\n",
    "    df_for = format_raw(dict_raw)\n",
    "    df_scale = scale_adjusted(df_for)\n",
    "    \n",
    "    print('preprocessing')\n",
    "    df_pre = preprocess(df_scale)\n",
    "    df_pre['symbol'] = ticker\n",
    "    \n",
    "    print('begin test itterations')\n",
    "    years = df_pre.date.map(lambda x: x.strftime('%Y')).astype(int).unique().tolist()\n",
    "    df_res = pd.DataFrame() \n",
    "    \n",
    "    for test_year in years[3:]:\n",
    "        \n",
    "        print('starting test year {}'.format(test_year))\n",
    "        results = [ticker, equity, test_year]\n",
    "        print('test-train split')\n",
    "        df_train, df_test = test_train_split(df_pre[:-7], test_year)\n",
    "        est_price = np.asscalar(df_test['pe1'].tail(1).values)\n",
    "        results.append(est_price)\n",
    "\n",
    "        print('training shapes')\n",
    "        df_shape = build_hsi(df_train)\n",
    "        df_train = assign_hsi(df_train, df_shape)\n",
    "        df_test = assign_hsi(df_test, df_shape)\n",
    "\n",
    "        print('optimizing trade thresholds')\n",
    "        lowT, highT = thresholds(df_train)\n",
    "        results.append(lowT)\n",
    "        results.append(highT)\n",
    "        \n",
    "        print('computing trades')\n",
    "        trades = compute_trades(df_test['HSC'], highT, lowT)\n",
    "        df_test['trade'] = trades\n",
    "        num_trades = ((np.diff(trades))==-1).sum() + trades[-1]\n",
    "        results.append(num_trades)\n",
    "\n",
    "        print('evaluating performance')\n",
    "        returns = compute_trade_returns(df_test)\n",
    "        results.append(np.count_nonzero(returns))\n",
    "\n",
    "        tval, pval = statistical_test(df_test)\n",
    "        results.append(tval)\n",
    "        results.append(pval)\n",
    "        print('t-value, p-value = ', tval, pval)\n",
    "\n",
    "        exp_ret = get_expected_return(returns)\n",
    "        results.append(exp_ret)\n",
    "        print('expected return = ', exp_ret)\n",
    "\n",
    "        vol = get_volatility(returns)\n",
    "        results.append(vol)\n",
    "        print('volatility = ', vol)\n",
    "\n",
    "        years = get_years(df_test)\n",
    "        results.append(years)\n",
    "        print('years = ', years)\n",
    "\n",
    "        sharpe = get_sharpe(returns, years, vol)\n",
    "        results.append(sharpe)\n",
    "        print('sharpe ratio = ', sharpe)\n",
    "\n",
    "        beat_percent = get_benchmark(df_test, exp_ret)\n",
    "        results.append(beat_percent)\n",
    "        print('beat percent = ', beat_percent)\n",
    "\n",
    "        print('saving result')\n",
    "        df_res = df_res.append(pd.Series(results),ignore_index=True)\n",
    "        \n",
    "    print('formatting summary')\n",
    "    cols = ['symbol','equity','test_year','price$','lowT','highT','#trades','in_days',\n",
    "            't-val','p-val','exp_ret%','volatility','years','sharpe','beat%']\n",
    "    df_res.columns = cols\n",
    "    df_res.test_year = df_res.test_year.astype(int)\n",
    "    df_res.in_days = df_res.in_days.astype(int)\n",
    "       \n",
    "    return df_res, df_test, df_shape"
   ]
  },
  {
   "cell_type": "code",
   "execution_count": 27,
   "metadata": {},
   "outputs": [
    {
     "name": "stdout",
     "output_type": "stream",
     "text": [
      "Runnning ETL for V\n",
      "formatting\n",
      "preprocessing\n",
      "begin test itterations\n",
      "starting test year 2011\n",
      "test-train split\n",
      "training shapes\n",
      "optimizing trade thresholds\n",
      "computing trades\n",
      "evaluating performance\n",
      "t-value, p-value =  0.052610207824098136 0.9581645007101043\n",
      "expected return =  35.0734894940846\n",
      "volatility =  0.17259676013586037\n",
      "years =  0.989041095890411\n",
      "sharpe ratio =  1.8518375079171587\n",
      "beat percent =  30.369756965569785\n",
      "saving result\n",
      "starting test year 2012\n",
      "test-train split\n",
      "training shapes\n",
      "optimizing trade thresholds\n",
      "computing trades\n",
      "evaluating performance\n",
      "t-value, p-value =  1.6227760950733254 0.10633896727920573\n",
      "expected return =  33.594292595137\n",
      "volatility =  0.11166518219236833\n",
      "years =  0.9945205479452055\n",
      "sharpe ratio =  2.711622774604826\n",
      "beat percent =  25.669117805434038\n",
      "saving result\n",
      "starting test year 2013\n",
      "test-train split\n",
      "training shapes\n",
      "optimizing trade thresholds\n",
      "computing trades\n",
      "evaluating performance\n",
      "t-value, p-value =  2.4705776906610346 0.014450935345876468\n",
      "expected return =  52.05407501154824\n",
      "volatility =  0.12862769229846716\n",
      "years =  0.9945205479452055\n",
      "sharpe ratio =  3.797073044704593\n",
      "beat percent =  28.582710116194225\n",
      "saving result\n",
      "starting test year 2014\n",
      "test-train split\n",
      "training shapes\n",
      "optimizing trade thresholds\n",
      "computing trades\n",
      "evaluating performance\n",
      "t-value, p-value =  -0.02386546178119411 0.9809804968872523\n",
      "expected return =  9.034543772528458\n",
      "volatility =  0.13473179163036308\n",
      "years =  0.9945205479452055\n",
      "sharpe ratio =  0.4144768510556246\n",
      "beat percent =  4.014917246259109\n",
      "saving result\n",
      "starting test year 2015\n",
      "test-train split\n",
      "training shapes\n",
      "optimizing trade thresholds\n",
      "computing trades\n",
      "evaluating performance\n",
      "t-value, p-value =  0.3885873959960224 0.6980702933301057\n",
      "expected return =  16.725242312001498\n",
      "volatility =  0.15082753288192868\n",
      "years =  0.9945205479452055\n",
      "sharpe ratio =  0.8829549985286567\n",
      "beat percent =  21.426307824092717\n",
      "saving result\n",
      "starting test year 2016\n",
      "test-train split\n",
      "training shapes\n",
      "optimizing trade thresholds\n",
      "computing trades\n",
      "evaluating performance\n",
      "t-value, p-value =  1.9169037714023094 0.05716412271770176\n",
      "expected return =  17.28469557907637\n",
      "volatility =  0.13172040100349897\n",
      "years =  0.989041095890411\n",
      "sharpe ratio =  1.0610517160000488\n",
      "beat percent =  8.448824555885226\n",
      "saving result\n",
      "starting test year 2017\n",
      "test-train split\n",
      "training shapes\n",
      "optimizing trade thresholds\n",
      "computing trades\n",
      "evaluating performance\n",
      "t-value, p-value =  2.8601531623236522 0.004720723557237841\n",
      "expected return =  34.104995164124375\n",
      "volatility =  0.08618407951783395\n",
      "years =  0.9863013698630136\n",
      "sharpe ratio =  3.606080824484983\n",
      "beat percent =  21.774856174241265\n",
      "saving result\n",
      "starting test year 2018\n",
      "test-train split\n",
      "training shapes\n",
      "optimizing trade thresholds\n",
      "computing trades\n",
      "evaluating performance\n",
      "t-value, p-value =  -1.792506098088167 0.07568386245341797\n",
      "expected return =  5.400655316115377\n",
      "volatility =  0.17356466015550523\n",
      "years =  0.9945205479452055\n",
      "sharpe ratio =  0.11122143131318535\n",
      "beat percent =  13.331135396538553\n",
      "saving result\n",
      "starting test year 2019\n",
      "test-train split\n",
      "training shapes\n",
      "optimizing trade thresholds\n",
      "computing trades\n",
      "evaluating performance\n",
      "t-value, p-value =  -0.434630467371546 0.6644663848937402\n",
      "expected return =  22.483020599872617\n",
      "volatility =  0.12117436284343147\n",
      "years =  0.7917808219178082\n",
      "sharpe ratio =  2.054519608109944\n",
      "beat percent =  16.48687639888411\n",
      "saving result\n",
      "formatting summary\n"
     ]
    },
    {
     "data": {
      "text/html": [
       "<div>\n",
       "<style scoped>\n",
       "    .dataframe tbody tr th:only-of-type {\n",
       "        vertical-align: middle;\n",
       "    }\n",
       "\n",
       "    .dataframe tbody tr th {\n",
       "        vertical-align: top;\n",
       "    }\n",
       "\n",
       "    .dataframe thead th {\n",
       "        text-align: right;\n",
       "    }\n",
       "</style>\n",
       "<table border=\"1\" class=\"dataframe\">\n",
       "  <thead>\n",
       "    <tr style=\"text-align: right;\">\n",
       "      <th></th>\n",
       "      <th>symbol</th>\n",
       "      <th>equity</th>\n",
       "      <th>test_year</th>\n",
       "      <th>price$</th>\n",
       "      <th>lowT</th>\n",
       "      <th>highT</th>\n",
       "      <th>#trades</th>\n",
       "      <th>in_days</th>\n",
       "      <th>t-val</th>\n",
       "      <th>p-val</th>\n",
       "      <th>exp_ret%</th>\n",
       "      <th>volatility</th>\n",
       "      <th>years</th>\n",
       "      <th>sharpe</th>\n",
       "      <th>beat%</th>\n",
       "    </tr>\n",
       "  </thead>\n",
       "  <tbody>\n",
       "    <tr>\n",
       "      <th>0</th>\n",
       "      <td>V</td>\n",
       "      <td>Visa</td>\n",
       "      <td>2011</td>\n",
       "      <td>24.140825</td>\n",
       "      <td>0.13750</td>\n",
       "      <td>0.67500</td>\n",
       "      <td>14.0</td>\n",
       "      <td>200</td>\n",
       "      <td>0.052610</td>\n",
       "      <td>0.958165</td>\n",
       "      <td>35.073489</td>\n",
       "      <td>0.172597</td>\n",
       "      <td>0.989041</td>\n",
       "      <td>1.851838</td>\n",
       "      <td>30.369757</td>\n",
       "    </tr>\n",
       "    <tr>\n",
       "      <th>1</th>\n",
       "      <td>V</td>\n",
       "      <td>Visa</td>\n",
       "      <td>2012</td>\n",
       "      <td>35.651762</td>\n",
       "      <td>0.30000</td>\n",
       "      <td>0.75625</td>\n",
       "      <td>19.0</td>\n",
       "      <td>100</td>\n",
       "      <td>1.622776</td>\n",
       "      <td>0.106339</td>\n",
       "      <td>33.594293</td>\n",
       "      <td>0.111665</td>\n",
       "      <td>0.994521</td>\n",
       "      <td>2.711623</td>\n",
       "      <td>25.669118</td>\n",
       "    </tr>\n",
       "    <tr>\n",
       "      <th>2</th>\n",
       "      <td>V</td>\n",
       "      <td>Visa</td>\n",
       "      <td>2013</td>\n",
       "      <td>53.184720</td>\n",
       "      <td>0.21875</td>\n",
       "      <td>0.74375</td>\n",
       "      <td>14.0</td>\n",
       "      <td>163</td>\n",
       "      <td>2.470578</td>\n",
       "      <td>0.014451</td>\n",
       "      <td>52.054075</td>\n",
       "      <td>0.128628</td>\n",
       "      <td>0.994521</td>\n",
       "      <td>3.797073</td>\n",
       "      <td>28.582710</td>\n",
       "    </tr>\n",
       "    <tr>\n",
       "      <th>3</th>\n",
       "      <td>V</td>\n",
       "      <td>Visa</td>\n",
       "      <td>2014</td>\n",
       "      <td>63.794290</td>\n",
       "      <td>0.18125</td>\n",
       "      <td>0.68750</td>\n",
       "      <td>15.0</td>\n",
       "      <td>134</td>\n",
       "      <td>-0.023865</td>\n",
       "      <td>0.980980</td>\n",
       "      <td>9.034544</td>\n",
       "      <td>0.134732</td>\n",
       "      <td>0.994521</td>\n",
       "      <td>0.414477</td>\n",
       "      <td>4.014917</td>\n",
       "    </tr>\n",
       "    <tr>\n",
       "      <th>4</th>\n",
       "      <td>V</td>\n",
       "      <td>Visa</td>\n",
       "      <td>2015</td>\n",
       "      <td>75.876887</td>\n",
       "      <td>0.30625</td>\n",
       "      <td>0.76250</td>\n",
       "      <td>14.0</td>\n",
       "      <td>96</td>\n",
       "      <td>0.388587</td>\n",
       "      <td>0.698070</td>\n",
       "      <td>16.725242</td>\n",
       "      <td>0.150828</td>\n",
       "      <td>0.994521</td>\n",
       "      <td>0.882955</td>\n",
       "      <td>21.426308</td>\n",
       "    </tr>\n",
       "  </tbody>\n",
       "</table>\n",
       "</div>"
      ],
      "text/plain": [
       "  symbol equity  test_year     price$     lowT    highT  #trades  in_days  \\\n",
       "0      V   Visa       2011  24.140825  0.13750  0.67500     14.0      200   \n",
       "1      V   Visa       2012  35.651762  0.30000  0.75625     19.0      100   \n",
       "2      V   Visa       2013  53.184720  0.21875  0.74375     14.0      163   \n",
       "3      V   Visa       2014  63.794290  0.18125  0.68750     15.0      134   \n",
       "4      V   Visa       2015  75.876887  0.30625  0.76250     14.0       96   \n",
       "\n",
       "      t-val     p-val   exp_ret%  volatility     years    sharpe      beat%  \n",
       "0  0.052610  0.958165  35.073489    0.172597  0.989041  1.851838  30.369757  \n",
       "1  1.622776  0.106339  33.594293    0.111665  0.994521  2.711623  25.669118  \n",
       "2  2.470578  0.014451  52.054075    0.128628  0.994521  3.797073  28.582710  \n",
       "3 -0.023865  0.980980   9.034544    0.134732  0.994521  0.414477   4.014917  \n",
       "4  0.388587  0.698070  16.725242    0.150828  0.994521  0.882955  21.426308  "
      ]
     },
     "execution_count": 27,
     "metadata": {},
     "output_type": "execute_result"
    }
   ],
   "source": [
    "# Run ETL for one Market\n",
    "ticker = 'V'\n",
    "equity = 'Visa'\n",
    "df_results, df_test, df_shape = run_etl(ticker, equity)\n",
    "df_results.to_csv('visa_shape_102819.csv', index=None)\n",
    "df_results.head()"
   ]
  },
  {
   "cell_type": "code",
   "execution_count": 28,
   "metadata": {},
   "outputs": [
    {
     "data": {
      "text/html": [
       "<div>\n",
       "<style scoped>\n",
       "    .dataframe tbody tr th:only-of-type {\n",
       "        vertical-align: middle;\n",
       "    }\n",
       "\n",
       "    .dataframe tbody tr th {\n",
       "        vertical-align: top;\n",
       "    }\n",
       "\n",
       "    .dataframe thead th {\n",
       "        text-align: right;\n",
       "    }\n",
       "</style>\n",
       "<table border=\"1\" class=\"dataframe\">\n",
       "  <thead>\n",
       "    <tr style=\"text-align: right;\">\n",
       "      <th></th>\n",
       "      <th>symbol</th>\n",
       "      <th>equity</th>\n",
       "      <th>test_year</th>\n",
       "      <th>price$</th>\n",
       "      <th>lowT</th>\n",
       "      <th>highT</th>\n",
       "      <th>#trades</th>\n",
       "      <th>in_days</th>\n",
       "      <th>t-val</th>\n",
       "      <th>p-val</th>\n",
       "      <th>exp_ret%</th>\n",
       "      <th>volatility</th>\n",
       "      <th>years</th>\n",
       "      <th>sharpe</th>\n",
       "      <th>beat%</th>\n",
       "    </tr>\n",
       "  </thead>\n",
       "  <tbody>\n",
       "    <tr>\n",
       "      <th>0</th>\n",
       "      <td>V</td>\n",
       "      <td>Visa</td>\n",
       "      <td>2011</td>\n",
       "      <td>24.140825</td>\n",
       "      <td>0.13750</td>\n",
       "      <td>0.67500</td>\n",
       "      <td>14.0</td>\n",
       "      <td>200</td>\n",
       "      <td>0.052610</td>\n",
       "      <td>0.958165</td>\n",
       "      <td>35.073489</td>\n",
       "      <td>0.172597</td>\n",
       "      <td>0.989041</td>\n",
       "      <td>1.851838</td>\n",
       "      <td>30.369757</td>\n",
       "    </tr>\n",
       "    <tr>\n",
       "      <th>1</th>\n",
       "      <td>V</td>\n",
       "      <td>Visa</td>\n",
       "      <td>2012</td>\n",
       "      <td>35.651762</td>\n",
       "      <td>0.30000</td>\n",
       "      <td>0.75625</td>\n",
       "      <td>19.0</td>\n",
       "      <td>100</td>\n",
       "      <td>1.622776</td>\n",
       "      <td>0.106339</td>\n",
       "      <td>33.594293</td>\n",
       "      <td>0.111665</td>\n",
       "      <td>0.994521</td>\n",
       "      <td>2.711623</td>\n",
       "      <td>25.669118</td>\n",
       "    </tr>\n",
       "    <tr>\n",
       "      <th>2</th>\n",
       "      <td>V</td>\n",
       "      <td>Visa</td>\n",
       "      <td>2013</td>\n",
       "      <td>53.184720</td>\n",
       "      <td>0.21875</td>\n",
       "      <td>0.74375</td>\n",
       "      <td>14.0</td>\n",
       "      <td>163</td>\n",
       "      <td>2.470578</td>\n",
       "      <td>0.014451</td>\n",
       "      <td>52.054075</td>\n",
       "      <td>0.128628</td>\n",
       "      <td>0.994521</td>\n",
       "      <td>3.797073</td>\n",
       "      <td>28.582710</td>\n",
       "    </tr>\n",
       "    <tr>\n",
       "      <th>3</th>\n",
       "      <td>V</td>\n",
       "      <td>Visa</td>\n",
       "      <td>2014</td>\n",
       "      <td>63.794290</td>\n",
       "      <td>0.18125</td>\n",
       "      <td>0.68750</td>\n",
       "      <td>15.0</td>\n",
       "      <td>134</td>\n",
       "      <td>-0.023865</td>\n",
       "      <td>0.980980</td>\n",
       "      <td>9.034544</td>\n",
       "      <td>0.134732</td>\n",
       "      <td>0.994521</td>\n",
       "      <td>0.414477</td>\n",
       "      <td>4.014917</td>\n",
       "    </tr>\n",
       "    <tr>\n",
       "      <th>4</th>\n",
       "      <td>V</td>\n",
       "      <td>Visa</td>\n",
       "      <td>2015</td>\n",
       "      <td>75.876887</td>\n",
       "      <td>0.30625</td>\n",
       "      <td>0.76250</td>\n",
       "      <td>14.0</td>\n",
       "      <td>96</td>\n",
       "      <td>0.388587</td>\n",
       "      <td>0.698070</td>\n",
       "      <td>16.725242</td>\n",
       "      <td>0.150828</td>\n",
       "      <td>0.994521</td>\n",
       "      <td>0.882955</td>\n",
       "      <td>21.426308</td>\n",
       "    </tr>\n",
       "    <tr>\n",
       "      <th>5</th>\n",
       "      <td>V</td>\n",
       "      <td>Visa</td>\n",
       "      <td>2016</td>\n",
       "      <td>76.803595</td>\n",
       "      <td>0.29375</td>\n",
       "      <td>0.55000</td>\n",
       "      <td>33.0</td>\n",
       "      <td>169</td>\n",
       "      <td>1.916904</td>\n",
       "      <td>0.057164</td>\n",
       "      <td>17.284696</td>\n",
       "      <td>0.131720</td>\n",
       "      <td>0.989041</td>\n",
       "      <td>1.061052</td>\n",
       "      <td>8.448825</td>\n",
       "    </tr>\n",
       "    <tr>\n",
       "      <th>6</th>\n",
       "      <td>V</td>\n",
       "      <td>Visa</td>\n",
       "      <td>2017</td>\n",
       "      <td>113.127180</td>\n",
       "      <td>0.28750</td>\n",
       "      <td>0.76875</td>\n",
       "      <td>15.0</td>\n",
       "      <td>153</td>\n",
       "      <td>2.860153</td>\n",
       "      <td>0.004721</td>\n",
       "      <td>34.104995</td>\n",
       "      <td>0.086184</td>\n",
       "      <td>0.986301</td>\n",
       "      <td>3.606081</td>\n",
       "      <td>21.774856</td>\n",
       "    </tr>\n",
       "    <tr>\n",
       "      <th>7</th>\n",
       "      <td>V</td>\n",
       "      <td>Visa</td>\n",
       "      <td>2018</td>\n",
       "      <td>130.950964</td>\n",
       "      <td>0.29375</td>\n",
       "      <td>0.73125</td>\n",
       "      <td>13.0</td>\n",
       "      <td>188</td>\n",
       "      <td>-1.792506</td>\n",
       "      <td>0.075684</td>\n",
       "      <td>5.400655</td>\n",
       "      <td>0.173565</td>\n",
       "      <td>0.994521</td>\n",
       "      <td>0.111221</td>\n",
       "      <td>13.331135</td>\n",
       "    </tr>\n",
       "    <tr>\n",
       "      <th>8</th>\n",
       "      <td>V</td>\n",
       "      <td>Visa</td>\n",
       "      <td>2019</td>\n",
       "      <td>176.590000</td>\n",
       "      <td>0.25625</td>\n",
       "      <td>0.71250</td>\n",
       "      <td>15.0</td>\n",
       "      <td>127</td>\n",
       "      <td>-0.434630</td>\n",
       "      <td>0.664466</td>\n",
       "      <td>22.483021</td>\n",
       "      <td>0.121174</td>\n",
       "      <td>0.791781</td>\n",
       "      <td>2.054520</td>\n",
       "      <td>16.486876</td>\n",
       "    </tr>\n",
       "  </tbody>\n",
       "</table>\n",
       "</div>"
      ],
      "text/plain": [
       "  symbol equity  test_year      price$     lowT    highT  #trades  in_days  \\\n",
       "0      V   Visa       2011   24.140825  0.13750  0.67500     14.0      200   \n",
       "1      V   Visa       2012   35.651762  0.30000  0.75625     19.0      100   \n",
       "2      V   Visa       2013   53.184720  0.21875  0.74375     14.0      163   \n",
       "3      V   Visa       2014   63.794290  0.18125  0.68750     15.0      134   \n",
       "4      V   Visa       2015   75.876887  0.30625  0.76250     14.0       96   \n",
       "5      V   Visa       2016   76.803595  0.29375  0.55000     33.0      169   \n",
       "6      V   Visa       2017  113.127180  0.28750  0.76875     15.0      153   \n",
       "7      V   Visa       2018  130.950964  0.29375  0.73125     13.0      188   \n",
       "8      V   Visa       2019  176.590000  0.25625  0.71250     15.0      127   \n",
       "\n",
       "      t-val     p-val   exp_ret%  volatility     years    sharpe      beat%  \n",
       "0  0.052610  0.958165  35.073489    0.172597  0.989041  1.851838  30.369757  \n",
       "1  1.622776  0.106339  33.594293    0.111665  0.994521  2.711623  25.669118  \n",
       "2  2.470578  0.014451  52.054075    0.128628  0.994521  3.797073  28.582710  \n",
       "3 -0.023865  0.980980   9.034544    0.134732  0.994521  0.414477   4.014917  \n",
       "4  0.388587  0.698070  16.725242    0.150828  0.994521  0.882955  21.426308  \n",
       "5  1.916904  0.057164  17.284696    0.131720  0.989041  1.061052   8.448825  \n",
       "6  2.860153  0.004721  34.104995    0.086184  0.986301  3.606081  21.774856  \n",
       "7 -1.792506  0.075684   5.400655    0.173565  0.994521  0.111221  13.331135  \n",
       "8 -0.434630  0.664466  22.483021    0.121174  0.791781  2.054520  16.486876  "
      ]
     },
     "execution_count": 28,
     "metadata": {},
     "output_type": "execute_result"
    }
   ],
   "source": [
    "# View results\n",
    "df_results"
   ]
  },
  {
   "cell_type": "markdown",
   "metadata": {},
   "source": [
    "#### Result Discussion  \n",
    ">  The expected returns are all positive, amazing.  \n",
    ">  The sharpe ratio > 1 in 2/3 of the cases, it's mostly good.  \n",
    ">  The beat the market percentages are encouraging"
   ]
  },
  {
   "cell_type": "markdown",
   "metadata": {},
   "source": [
    "#### Assess Results for 2019"
   ]
  },
  {
   "cell_type": "code",
   "execution_count": 33,
   "metadata": {},
   "outputs": [
    {
     "data": {
      "image/png": "[encoded data removed]",
      "text/plain": [
       "<matplotlib.figure.Figure at 0x20b021abac8>"
      ]
     },
     "metadata": {
      "needs_background": "light"
     },
     "output_type": "display_data"
    }
   ],
   "source": [
    "# returns histogram\n",
    "returns = df_test['shift_ret']*df_test['trade']\n",
    "plt.xlabel(\"Log Returns\")\n",
    "plt.ylabel(\"Frequency\")\n",
    "plt.title(\"Shape Factor Day Returns\")\n",
    "plt.hist(returns.dropna(),20,(-0.05,0.05), color = (.1,.1,.95,.3));"
   ]
  },
  {
   "cell_type": "markdown",
   "metadata": {},
   "source": [
    "We want more positive days than negative and we're getting them."
   ]
  },
  {
   "cell_type": "code",
   "execution_count": 30,
   "metadata": {},
   "outputs": [
    {
     "data": {
      "text/plain": [
       "count    202.000000\n",
       "mean       0.001004\n",
       "std        0.007652\n",
       "min       -0.038905\n",
       "25%       -0.000545\n",
       "50%        0.000000\n",
       "75%        0.003988\n",
       "max        0.029844\n",
       "dtype: float64"
      ]
     },
     "execution_count": 30,
     "metadata": {},
     "output_type": "execute_result"
    }
   ],
   "source": [
    "# show day returns statistics\n",
    "returns.describe()"
   ]
  },
  {
   "cell_type": "code",
   "execution_count": 31,
   "metadata": {},
   "outputs": [],
   "source": [
    "# t test definition\n",
    "def analyze_alpha(expected_portfolio_returns_by_date, sigma):\n",
    "    t_test =scs.ttest_1samp(expected_portfolio_returns_by_date,sigma)\n",
    "    t_value = t_test[0]\n",
    "    p_value = t_test[1]/2\n",
    "    return t_value,p_value"
   ]
  },
  {
   "cell_type": "code",
   "execution_count": 32,
   "metadata": {},
   "outputs": [
    {
     "data": {
      "text/plain": [
       "(-12.347970687553484, 9.77361523121614e-27)"
      ]
     },
     "execution_count": 32,
     "metadata": {},
     "output_type": "execute_result"
    }
   ],
   "source": [
    "# t test result\n",
    "sigma = returns.std()\n",
    "analyze_alpha(returns.dropna(), sigma)"
   ]
  },
  {
   "cell_type": "markdown",
   "metadata": {},
   "source": [
    "In this test, the null hypothesis is zero mean day returns.  \n",
    "The trending market makes this impossible, so it may not mean much."
   ]
  },
  {
   "cell_type": "code",
   "execution_count": 34,
   "metadata": {},
   "outputs": [
    {
     "data": {
      "text/plain": [
       "22.483020599872617"
      ]
     },
     "execution_count": 34,
     "metadata": {},
     "output_type": "execute_result"
    }
   ],
   "source": [
    "#expected returns over range\n",
    "exp_ret = (np.exp(returns[1:].T.sum())-1)*100\n",
    "exp_ret"
   ]
  },
  {
   "cell_type": "markdown",
   "metadata": {},
   "source": [
    "We like to see trading profit here."
   ]
  },
  {
   "cell_type": "code",
   "execution_count": 35,
   "metadata": {},
   "outputs": [
    {
     "data": {
      "text/plain": [
       "0.12117436284343147"
      ]
     },
     "execution_count": 35,
     "metadata": {},
     "output_type": "execute_result"
    }
   ],
   "source": [
    "#annualized volatility\n",
    "vol_year = np.std(returns)*np.sqrt(252)\n",
    "vol_year"
   ]
  },
  {
   "cell_type": "markdown",
   "metadata": {},
   "source": [
    "Less than 20% seems risk worthy."
   ]
  },
  {
   "cell_type": "code",
   "execution_count": 37,
   "metadata": {},
   "outputs": [
    {
     "data": {
      "text/plain": [
       "0.7917808219178082"
      ]
     },
     "execution_count": 37,
     "metadata": {},
     "output_type": "execute_result"
    }
   ],
   "source": [
    "# compute years for sharpe\n",
    "df_test = df_test.reset_index(drop=True)\n",
    "years = np.asscalar((df_test['date'].tail(1)-df_test['date'][0])/timedelta(days=365))\n",
    "years"
   ]
  },
  {
   "cell_type": "markdown",
   "metadata": {},
   "source": [
    "The year 2019 is not over yet."
   ]
  },
  {
   "cell_type": "code",
   "execution_count": 38,
   "metadata": {},
   "outputs": [
    {
     "data": {
      "text/plain": [
       "2.054519608109944"
      ]
     },
     "execution_count": 38,
     "metadata": {},
     "output_type": "execute_result"
    }
   ],
   "source": [
    "# sharpe ratio on this trade strategy\n",
    "ret_year = (np.exp(returns[1:].T.sum())-1)/years\n",
    "risk_free = 0.035\n",
    "sharpe = (ret_year - risk_free) / vol_year\n",
    "sharpe"
   ]
  },
  {
   "cell_type": "markdown",
   "metadata": {},
   "source": [
    "Greater than 1 is good, 2 is very good."
   ]
  },
  {
   "cell_type": "code",
   "execution_count": 39,
   "metadata": {},
   "outputs": [
    {
     "data": {
      "text/plain": [
       "<matplotlib.axes._subplots.AxesSubplot at 0x20b00d4c518>"
      ]
     },
     "execution_count": 39,
     "metadata": {},
     "output_type": "execute_result"
    },
    {
     "data": {
      "image/png": "[encoded data removed]",
      "text/plain": [
       "<matplotlib.figure.Figure at 0x20b00dee438>"
      ]
     },
     "metadata": {
      "needs_background": "light"
     },
     "output_type": "display_data"
    }
   ],
   "source": [
    "# show trades over last 3 months\n",
    "df_test[-360:].plot(x='date',y='trade')"
   ]
  },
  {
   "cell_type": "markdown",
   "metadata": {},
   "source": [
    "This reveals week to month trading more than daytrading."
   ]
  },
  {
   "cell_type": "markdown",
   "metadata": {},
   "source": [
    "#### Conclusion - indicator appears feasible."
   ]
  },
  {
   "cell_type": "code",
   "execution_count": 55,
   "metadata": {},
   "outputs": [],
   "source": [
    "df_test.to_csv('visa_index_102719.csv', index=None)"
   ]
  },
  {
   "cell_type": "code",
   "execution_count": 59,
   "metadata": {},
   "outputs": [],
   "source": [
    "df_shape.to_csv('visa_hsi_lookup.csv', index=None)"
   ]
  },
  {
   "cell_type": "markdown",
   "metadata": {},
   "source": [
    "### Disclaimer: this notebook is intended for educational purposes only and not recommended for real trading."
   ]
  },
  {
   "cell_type": "code",
   "execution_count": null,
   "metadata": {},
   "outputs": [],
   "source": []
  }
 ],
 "metadata": {
  "kernelspec": {
   "display_name": "Python 3",
   "language": "python",
   "name": "python3"
  },
  "language_info": {
   "codemirror_mode": {
    "name": "ipython",
    "version": 3
   },
   "file_extension": ".py",
   "mimetype": "text/x-python",
   "name": "python",
   "nbconvert_exporter": "python",
   "pygments_lexer": "ipython3",
   "version": "3.5.4"
  }
 },
 "nbformat": 4,
 "nbformat_minor": 2
}
